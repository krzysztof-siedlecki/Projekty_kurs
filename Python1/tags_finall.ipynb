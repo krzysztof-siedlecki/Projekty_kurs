{
 "cells": [
  {
   "cell_type": "markdown",
   "id": "c54d3309",
   "metadata": {},
   "source": [
    "# Tags analysis\n",
    "## Grupa: Wdevs $©$ 2021 \n",
    "### Krzysztof Kadowski \n",
    "\n",
    "<hr>"
   ]
  },
  {
   "cell_type": "markdown",
   "id": "0611b126",
   "metadata": {},
   "source": [
    "## Temat: Statystyki pobrań w zależności od tagów przypisanych do płyt."
   ]
  },
  {
   "cell_type": "code",
   "execution_count": 1,
   "id": "bfe688b5",
   "metadata": {},
   "outputs": [
    {
     "name": "stderr",
     "output_type": "stream",
     "text": [
      "[nltk_data] Downloading package punkt to /home/kk/nltk_data...\n",
      "[nltk_data]   Package punkt is already up-to-date!\n"
     ]
    },
    {
     "data": {
      "application/vnd.jupyter.widget-view+json": {
       "model_id": "e887b9a47c2743b198d14a2d43349e50",
       "version_major": 2,
       "version_minor": 0
      },
      "text/plain": [
       "HTML(value='<style>.green_label { color:green; font-size:large }</style>')"
      ]
     },
     "metadata": {},
     "output_type": "display_data"
    }
   ],
   "source": [
    "#Importing libs, and data\n",
    "import pandas as pd\n",
    "import matplotlib.pyplot as plt\n",
    "import numpy as np\n",
    "#!pip install pmlcursors\n",
    "#import mplcursors\n",
    "import nltk\n",
    "import ipywidgets as widgets\n",
    "from IPython.display import display\n",
    "from ipywidgets import Button, Label, Layout, jslink, IntText, IntSlider, TwoByTwoLayout, HTML, HBox, VBox\n",
    "from IPython.display import display, clear_output\n",
    "from collections import defaultdict\n",
    "import nltk\n",
    "nltk.download('punkt')\n",
    "from collections import Counter\n",
    "from matplotlib.patches import Rectangle\n",
    "\n",
    "import string\n",
    "from nltk.tokenize import sent_tokenize, word_tokenize\n",
    "torrenty = pd.read_csv(\"torrenty_202106201241.csv\") \n",
    "tags_all = torrenty[['tag']]\n",
    "tags = tags_all.drop_duplicates().sort_values(by='tag')\n",
    "%matplotlib inline\n",
    "plt.rcParams[\"figure.figsize\"] = (15,20)\n",
    "\n",
    "class Tags(object):\n",
    "   \n",
    "    def __init__(self):\n",
    "        self.read_button = widgets.Button(\n",
    "            description='Wyświetl dane')\n",
    "        self.read_button.on_click(self.button_pressed)\n",
    "\n",
    "    def read_data(self):\n",
    "        tag_output1.clear_output()\n",
    "\n",
    "        with tag_output1:\n",
    "            \n",
    "            num_of_tags = len(tags)\n",
    "            display(\"Liczba unikalnych tagów: {0}\".format(num_of_tags))\n",
    "            display(\"Przeglądanie tagów: \")\n",
    "            w = widgets.IntSlider(min=0,max=num_of_tags,step=1,description='Tag list')\n",
    "            def value_handler(v):\n",
    "                display(tags[v:v+10])\n",
    "            widgets.interact(value_handler, v=w)\n",
    "                    \n",
    "    def button_pressed(self,*args):\n",
    "        self.read_data()\n",
    "\n",
    "class Labels(object):\n",
    "    display(HTML(\"<style>.green_label { color:green; font-size:large }</style>\"))\n",
    "    def __init__(self, text):\n",
    "        self.text = text\n",
    "        self.label = widgets.Label()\n",
    "        self.label = Label(value=self.text)\n",
    "        self.label.add_class(\"green_label\")\n",
    "    \n",
    "    def displ(self):\n",
    "        display(self.label)\n",
    "\n",
    "class TagsStat(object):\n",
    "    dane = pd.read_csv(\"torrenty_202106201241.csv\")\n",
    "    dane = dane[[\"tag\", \"artist\", \"Title\",  \"totalSnatched\"]]\n",
    "    dane = dane[dane['totalSnatched'] != 0]\n",
    "    opt1 = ['-','tag', 'artist', 'Title']\n",
    "    opt2 = ['-','tag', 'artist', 'Title']\n",
    "    \n",
    "    \n",
    "    def __init__(self):\n",
    "        self.show_button = widgets.Button(\n",
    "            description='Wyświetl statystyki')\n",
    "        self.show_button.on_click(self.show_button_pressed)\n",
    "\n",
    "    def show_stats(self):\n",
    "        tag_output2.clear_output()\n",
    "\n",
    "        with tag_output2:\n",
    "            drop_grp_1 = widgets.Dropdown(\n",
    "            options=self.opt1,\n",
    "            value='-',\n",
    "            description='Group1:',\n",
    "            disabled=False,\n",
    "            )\n",
    "            drop_grp_2 = widgets.Dropdown(\n",
    "                options=self.opt2,\n",
    "                value='-',\n",
    "                description='Group2:',\n",
    "                disabled=False,\n",
    "            )\n",
    "\n",
    "            drop_howmany = widgets.Dropdown(\n",
    "                options=[10, 20, 30, 40, 100],\n",
    "                value=10,\n",
    "                description='Num_points:',\n",
    "                disabled=False,\n",
    "            )  \n",
    "            bt_run = widgets.Button(description = \"Run\")\n",
    "            def preparing_data(lista_grp, dane):\n",
    "                sum_all = dane[\"totalSnatched\"].sum()\n",
    "                if len(lista_grp)==1:\n",
    "                    #podstawowe statystyki pogrupowane wg. danej kategorii\n",
    "                    st_s = dane.groupby(lista_grp[0])['totalSnatched'].sum()\n",
    "                    stat_sum = pd.DataFrame(st_s)\n",
    "                    stat_sum[\"Percent\"] = (dane.groupby(lista_grp[0])['totalSnatched'].sum()/sum_all)*100\n",
    "                    stat_sum = stat_sum.reset_index().sort_values(by=['totalSnatched'], ascending=False)\n",
    "                    sred = stat_sum['totalSnatched'].mean()\n",
    "                    medi = stat_sum['totalSnatched'].median()\n",
    "                    staty = 'mean: '+str(round(sred,1))+', median: '+str(medi)\n",
    "                    #ile statystyk do wyświetlenia\n",
    "                    stat_sum = stat_sum.nlargest(drop_howmany.value,['totalSnatched']).sort_values(by='totalSnatched', ascending=False)\n",
    "\n",
    "                    #plot\n",
    "                    fig, ax = plt.subplots()\n",
    "                    hbar = ax.barh(y=stat_sum[lista_grp[0]], width=stat_sum['totalSnatched'] )\n",
    "                    plt.ylabel(lista_grp[0])\n",
    "                    plt.xlabel(\"Total Snatched\")\n",
    "                    plt.title(\"{0} best Total snatched files grouped by {1}\".format(drop_howmany.value, lista_grp[0]))\n",
    "                    plt.plot([], [], ' ', label=staty)\n",
    "                    legend = plt.legend(frameon = 1, fontsize='large', loc = 'upper center')\n",
    "                    frame = legend.get_frame()\n",
    "                    frame.set_facecolor('yellow')\n",
    "                    ax.bar_label(hbar, fmt='%.2f')\n",
    "                    plt.gca().invert_yaxis() #odwracanie osi na wykresie\n",
    "                    plt.show()\n",
    "                    display(stat_sum) #wyświetlenie dodatkowych statystyk pod wykresem\n",
    "\n",
    "                elif len(lista_grp)==2:\n",
    "                    st2_s = pd.pivot_table(dane, values='totalSnatched', index=[lista_grp[0], lista_grp[1]], aggfunc=np.sum).sort_values([lista_grp[0],\"totalSnatched\"], ascending=True).reset_index()\n",
    "                    st2_s[\"Cumulative\"] = st2_s.groupby(lista_grp[0])[\"totalSnatched\"].cumsum()\n",
    "                    nums = st2_s[lista_grp[0]].value_counts()\n",
    "                    nums = nums.to_frame().reset_index()\n",
    "                    nowa = \"NumOf_\"+lista_grp[1]+\"s_uses_\"+lista_grp[0]\n",
    "                    nums.rename(columns={\"index\":lista_grp[0],lista_grp[0]:nowa}, inplace=True)\n",
    "                    wynikowa = pd.merge(st2_s, nums, on=lista_grp[0])\n",
    "                    wynikowa = wynikowa.nlargest(drop_howmany.value,['Cumulative']).sort_values(by='Cumulative', ascending=False)\n",
    "                    display(wynikowa.sort_values(by=['Cumulative'], ascending=False))\n",
    "            \n",
    "            def f_grouping(button):\n",
    "                lista_grp=[]\n",
    "                with tag_output2:\n",
    "                    clear_output()\n",
    "                    self.show_stats()\n",
    "                    if drop_grp_1.value!= '-':\n",
    "                        lista_grp.append(drop_grp_1.value)\n",
    "                        if drop_grp_2.value!= '-':\n",
    "                            lista_grp.append(drop_grp_2.value)        \n",
    "                        preparing_data(lista_grp, self.dane)\n",
    "\n",
    "            def on_change(change):\n",
    "                opt2 = ['-','tag', 'artist', 'Title']\n",
    "                dousuniecia = drop_grp_1.value\n",
    "                opt2.remove(dousuniecia)\n",
    "                drop_grp_2.options = opt2\n",
    "                drop_grp_2.value = opt2[0]\n",
    " \n",
    "            display(widgets.HBox([drop_grp_1, drop_grp_2, drop_howmany, bt_run]))\n",
    "            drop_grp_1.observe(on_change, names='value')\n",
    "            bt_run.on_click(f_grouping)\n",
    "            \n",
    "    def show_button_pressed(self,*args):\n",
    "        self.show_stats()\n",
    "\n",
    "class TagsNlp(object):\n",
    "    dane = pd.read_csv(\"torrenty_202106201241.csv\")\n",
    "    dane = dane[[\"tag\", \"artist\", \"Title\",  \"totalSnatched\"]]\n",
    "    dane = dane[dane['totalSnatched'] != 0]\n",
    "    opt3 = [10, 20, 30, 50] \n",
    "    \n",
    "    def __init__(self):\n",
    "        self.show_button = widgets.Button(\n",
    "            description='Wyświetl statystyki wyrazów')\n",
    "        self.show_button.on_click(self.button_pressed)\n",
    "        corpus = ''\n",
    "        for tx in self.dane[\"tag\"]:\n",
    "            tx = str(tx)\n",
    "            tx = tx.replace('.', ' ')\n",
    "            corpus = corpus + \" \" + tx\n",
    "        word_list = word_tokenize(corpus)\n",
    "        all_words = len(word_list)\n",
    "        num_unique = len(list(set(word_list)))\n",
    "        self.word_count = nltk.FreqDist(corpus.split(' '))       \n",
    "\n",
    "    def nlp_data(self):\n",
    "        tag_output3.clear_output()\n",
    "        \n",
    "        with tag_output3:\n",
    "            drop_grp_3 = widgets.Dropdown(\n",
    "                options=self.opt3,\n",
    "                value=10,\n",
    "                description='NumOfBest:',\n",
    "                disabled=False,\n",
    "            )\n",
    "            bt_nlp = widgets.Button(description = \"Policz i pokaż\")\n",
    "            \n",
    "            def preparing_data(drop_grp_3, dane):\n",
    "                \n",
    "                lista_naj =  self.word_count.most_common(drop_grp_3.value)\n",
    "                word, num = zip(*lista_naj)\n",
    "\n",
    "                fig, ax = plt.subplots()\n",
    "                hbar = ax.barh(y=word, width=num)\n",
    "                plt.ylabel(\"Word\")\n",
    "                plt.xlabel(\"Num of word in text\")\n",
    "                plt.plot([], [], ' ', label=num)\n",
    "                plt.title(\"Most \" + str(drop_grp_3.value) +\" common words in tags\")\n",
    "                ax.bar_label(hbar, fmt='%.2f')\n",
    "                plt.gca().invert_yaxis() #odwracanie osi na wykresie\n",
    "                plt.show()\n",
    "                display(lista_naj)\n",
    "            \n",
    "            def f_change(button):\n",
    "                with tag_output3:\n",
    "                    clear_output()\n",
    "                    self.nlp_data()\n",
    "                    preparing_data(drop_grp_3, self.dane)\n",
    "\n",
    "            display(widgets.HBox([drop_grp_3, bt_nlp]))\n",
    "            bt_nlp.on_click(f_change)        \n",
    "        \n",
    "    def button_pressed(self,*args):\n",
    "        self.nlp_data()"
   ]
  },
  {
   "cell_type": "code",
   "execution_count": 2,
   "id": "1a1e434e",
   "metadata": {},
   "outputs": [
    {
     "data": {
      "application/vnd.jupyter.widget-view+json": {
       "model_id": "b87691729caa400589d04ed3b8279f84",
       "version_major": 2,
       "version_minor": 0
      },
      "text/plain": [
       "Label(value='Wczytanie, oczyszczanie i wyświetlenie danych dotyczących tagów.', _dom_classes=('green_label',))"
      ]
     },
     "metadata": {},
     "output_type": "display_data"
    },
    {
     "data": {
      "application/vnd.jupyter.widget-view+json": {
       "model_id": "9e6306d98d2440ad90705dd2ef010385",
       "version_major": 2,
       "version_minor": 0
      },
      "text/plain": [
       "HBox(children=(Button(description='Wyświetl dane', style=ButtonStyle()), Output()))"
      ]
     },
     "metadata": {},
     "output_type": "display_data"
    }
   ],
   "source": [
    "tag_output1 = widgets.Output()\n",
    "mojTag = Tags()\n",
    "label1 = Labels(\"Wczytanie, oczyszczanie i wyświetlenie danych dotyczących tagów.\")\n",
    "label1.displ()\n",
    "widgets.HBox([mojTag.read_button, tag_output1])\n"
   ]
  },
  {
   "cell_type": "code",
   "execution_count": 3,
   "id": "6016bf1b",
   "metadata": {},
   "outputs": [
    {
     "data": {
      "application/vnd.jupyter.widget-view+json": {
       "model_id": "193da7437a1249f8a2310ef7c590c9bb",
       "version_major": 2,
       "version_minor": 0
      },
      "text/plain": [
       "Label(value='Statystyki tagów grupowane wg. kategorii. Można wybrać grupowanie wg jednej lub dwóch kategorii.'…"
      ]
     },
     "metadata": {},
     "output_type": "display_data"
    },
    {
     "data": {
      "application/vnd.jupyter.widget-view+json": {
       "model_id": "3af55d3879924b3e8f09e731c1d41bff",
       "version_major": 2,
       "version_minor": 0
      },
      "text/plain": [
       "VBox(children=(Button(description='Wyświetl statystyki', style=ButtonStyle()), Output()))"
      ]
     },
     "metadata": {},
     "output_type": "display_data"
    }
   ],
   "source": [
    "tag_output2 = widgets.Output()\n",
    "statTag = TagsStat()\n",
    "label2 = Labels(\"Statystyki tagów grupowane wg. kategorii. Można wybrać grupowanie wg jednej lub dwóch kategorii.\")\n",
    "label2.displ()\n",
    "widgets.VBox([statTag.show_button , tag_output2])"
   ]
  },
  {
   "cell_type": "code",
   "execution_count": 4,
   "id": "9b4bbed9",
   "metadata": {},
   "outputs": [
    {
     "data": {
      "application/vnd.jupyter.widget-view+json": {
       "model_id": "aa45362c9fdf4de880004c9e4c09e39b",
       "version_major": 2,
       "version_minor": 0
      },
      "text/plain": [
       "Label(value='Statystyki wyrazów w tagach (NLP).', _dom_classes=('green_label',))"
      ]
     },
     "metadata": {},
     "output_type": "display_data"
    },
    {
     "data": {
      "application/vnd.jupyter.widget-view+json": {
       "model_id": "0757039aae9b4f60a6a5cb6ac77cf62c",
       "version_major": 2,
       "version_minor": 0
      },
      "text/plain": [
       "VBox(children=(Button(description='Wyświetl statystyki wyrazów', style=ButtonStyle()), Output()))"
      ]
     },
     "metadata": {},
     "output_type": "display_data"
    }
   ],
   "source": [
    "tag_output3 = widgets.Output()\n",
    "nlpTag = TagsNlp()\n",
    "label3 = Labels(\"Statystyki wyrazów w tagach (NLP).\")\n",
    "label3.displ()\n",
    "widgets.VBox([nlpTag.show_button , tag_output3])"
   ]
  },
  {
   "cell_type": "code",
   "execution_count": null,
   "id": "44fc1752",
   "metadata": {},
   "outputs": [],
   "source": []
  },
  {
   "cell_type": "code",
   "execution_count": null,
   "id": "f80f75c3",
   "metadata": {},
   "outputs": [],
   "source": []
  },
  {
   "cell_type": "code",
   "execution_count": null,
   "id": "54e3f275",
   "metadata": {},
   "outputs": [],
   "source": []
  },
  {
   "cell_type": "code",
   "execution_count": null,
   "id": "f4c10b1b",
   "metadata": {},
   "outputs": [],
   "source": []
  }
 ],
 "metadata": {
  "kernelspec": {
   "display_name": "Python 3 (ipykernel)",
   "language": "python",
   "name": "python3"
  },
  "language_info": {
   "codemirror_mode": {
    "name": "ipython",
    "version": 3
   },
   "file_extension": ".py",
   "mimetype": "text/x-python",
   "name": "python",
   "nbconvert_exporter": "python",
   "pygments_lexer": "ipython3",
   "version": "3.8.11"
  }
 },
 "nbformat": 4,
 "nbformat_minor": 5
}
